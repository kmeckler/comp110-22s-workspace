{
 "cells": [
  {
   "cell_type": "markdown",
   "metadata": {},
   "source": [
    "# Processing Shakespeare\n",
    "\n",
    "Counting all the letters in Shakespeare's works!\n",
    "\n",
    "`Step 1` Read each line of the text file into a list of strings."
   ]
  },
  {
   "cell_type": "code",
   "execution_count": null,
   "metadata": {},
   "outputs": [],
   "source": [
    "from io import TextIOWrapper\n",
    "\n",
    "def read_lines(filename: str) -> list[str]:\n",
    "    \"\"\"Read a .txt into a list of strings for each line.\"\"\"\n",
    "    result: list[str] = []\n",
    "    file_handle: TextIOWrapper = open(filename, \"r\")\n",
    "    for line in file_handle: \n",
    "        line = line.strip()\n",
    "        line = line.lower()\n",
    "        result.append(line)\n",
    "    return result\n",
    "\n",
    "\n",
    "shakespeares_lines: list[str] = read_lines(\"./shakespeare.txt\")"
   ]
  },
  {
   "cell_type": "code",
   "execution_count": null,
   "metadata": {},
   "outputs": [],
   "source": [
    "# Example of \"Slice Notation\"\n",
    "\n",
    "print(shakespeares_lines[0:5])"
   ]
  },
  {
   "cell_type": "markdown",
   "metadata": {},
   "source": [
    "`Step 2` Count all of the letters"
   ]
  },
  {
   "cell_type": "code",
   "execution_count": 5,
   "metadata": {},
   "outputs": [],
   "source": [
    "def tally(x: dict[str, int], key: str) -> dict[str, int]:\n",
    "    \"\"\"Mutate counts by incrementing value stored at key by 1.\"\"\"\n",
    "    if key in x:\n",
    "        x[key] += 1\n",
    "    else:\n",
    "        x[key] = 1\n",
    "    return x\n",
    "\n",
    "\n",
    "def count_letters(x: list[str]) -> dict[str, int]: \n",
    "    \"\"\"Count the frequency of all letters in a list of strings.\"\"\"\n",
    "    counts: dict[str, int] = {}\n",
    "    for item in x: \n",
    "        for char in item: \n",
    "            if char >= 'a' and char <= 'z': \n",
    "                tally(counts, char)\n",
    "    return counts\n",
    "\n",
    "shakespeare_counts: dict[str, int] = count_letters(shakespeares_lines)"
   ]
  },
  {
   "cell_type": "markdown",
   "metadata": {},
   "source": [
    "`step 3` Visualization"
   ]
  },
  {
   "cell_type": "code",
   "execution_count": null,
   "metadata": {},
   "outputs": [],
   "source": [
    "from matplotlib import pyplot\n",
    "\n",
    "shakespeares_counts = dict(sorted(shakespeare_counts.items()))\n",
    "\n",
    "pyplot.title(\"Frequencies of Letters in Shakespeares\")\n",
    "pyplot.xlabel(\"Letters\")\n",
    "pyplot.ylabel(\"Counts\")\n",
    "labels: list[str] = list(shakespeare_counts.keys())\n",
    "values: list[int] = list(shakespeare_counts.values())\n",
    "pyplot.bar(labels, values)"
   ]
  },
  {
   "cell_type": "code",
   "execution_count": 8,
   "metadata": {},
   "outputs": [
    {
     "name": "stdout",
     "output_type": "stream",
     "text": [
      "{'spring': 110, 'break': 100000}\n"
     ]
    }
   ],
   "source": [
    "example_tuples: list[tuple[str, int]] = [\n",
    "    ('spring', 110), \n",
    "    ('break', 100000)\n",
    "]\n",
    "\n",
    "dict_from_tuples: dict[str, int] = dict(example_tuples)\n",
    "dict_from_tuples\n",
    "print(dict_from_tuples)"
   ]
  }
 ],
 "metadata": {
  "interpreter": {
   "hash": "aee8b7b246df8f9039afb4144a1f6fd8d2ca17a180786b69acc140d282b71a49"
  },
  "kernelspec": {
   "display_name": "Python 3.10.1 64-bit",
   "language": "python",
   "name": "python3"
  },
  "language_info": {
   "codemirror_mode": {
    "name": "ipython",
    "version": 3
   },
   "file_extension": ".py",
   "mimetype": "text/x-python",
   "name": "python",
   "nbconvert_exporter": "python",
   "pygments_lexer": "ipython3",
   "version": "3.10.1"
  },
  "orig_nbformat": 4
 },
 "nbformat": 4,
 "nbformat_minor": 2
}
